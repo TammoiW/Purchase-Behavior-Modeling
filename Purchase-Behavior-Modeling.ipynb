{
 "cells": [
  {
   "cell_type": "code",
   "execution_count": 3,
   "id": "e2387aa4-6efa-4dae-9555-5e3a5aa13388",
   "metadata": {},
   "outputs": [],
   "source": [
    "#Importing the necessary libraries\n",
    "import random #To generate the random numbers\n",
    "import pandas as pd #To store our dataset"
   ]
  },
  {
   "cell_type": "code",
   "execution_count": 24,
   "id": "38e98370-6a14-4d38-affc-85f2b548d696",
   "metadata": {},
   "outputs": [],
   "source": [
    "#Set the seed for reproductivity so that the same results are generated every time the code is ran\n",
    "random.seed(42)"
   ]
  },
  {
   "cell_type": "code",
   "execution_count": 25,
   "id": "9cc62972-b02a-4fd6-bc78-0b5356ed82fe",
   "metadata": {},
   "outputs": [],
   "source": [
    "#Defining the probability of making a purchase for each age groups\n",
    "w_purchase_probs={20: 0.10,30: 0.15, 40: 0.20, 50: 0.30, 60: 0.50, 70: 0.80}"
   ]
  },
  {
   "cell_type": "code",
   "execution_count": 26,
   "id": "addd2113-4c6c-4673-bbfc-7121b02f2c01",
   "metadata": {},
   "outputs": [],
   "source": [
    "age_groups = list(w_purchase_probs.keys())"
   ]
  },
  {
   "cell_type": "code",
   "execution_count": 27,
   "id": "707bb497-fa12-413a-a7af-58e114f6b717",
   "metadata": {},
   "outputs": [],
   "source": [
    "#Generate 40,000 data points with the weighted purchase probabilities. It randomly selects an age then determines the purchase probability based on age and weight assigned \n",
    "#to the age group. A purchase is simulated:1 for purchase and 0 for no purchase\n",
    "data =[]\n",
    "for _ in range(40000):\n",
    "    age = random.choice(age_groups)\n",
    "    \n",
    "    w_purchase_prob = w_purchase_probs[age] \n",
    "    \n",
    "    purchase = random.choices([1,0], weights=[w_purchase_prob, 1-w_purchase_prob],k=1)[0]\n",
    "    \n",
    "    data.append((age,purchase))#storing the data as tuples"
   ]
  },
  {
   "cell_type": "code",
   "execution_count": 28,
   "id": "b3b0083d-2578-4904-8c5a-79b3283e7fe6",
   "metadata": {},
   "outputs": [],
   "source": [
    "#Creating a dataframe to house our dataset\n",
    "df_w_age_purchase= pd.DataFrame(data, columns=['Age', 'Purchased'])"
   ]
  },
  {
   "cell_type": "code",
   "execution_count": 29,
   "id": "a809c5a5-6aac-4a7f-867a-858b093deffc",
   "metadata": {},
   "outputs": [
    {
     "name": "stdout",
     "output_type": "stream",
     "text": [
      "<bound method NDFrame.head of        Age  Purchased\n",
      "0       70          1\n",
      "1       70          1\n",
      "2       30          1\n",
      "3       20          0\n",
      "4       60          1\n",
      "...    ...        ...\n",
      "39995   70          1\n",
      "39996   60          1\n",
      "39997   60          0\n",
      "39998   30          0\n",
      "39999   30          0\n",
      "\n",
      "[40000 rows x 2 columns]>\n"
     ]
    }
   ],
   "source": [
    "#taking a peek at the data that was generated\n",
    "print(df_w_age_purchase.head)"
   ]
  },
  {
   "cell_type": "code",
   "execution_count": 30,
   "id": "f36ada2e-ba49-4834-bab7-f5b15b8ca3f0",
   "metadata": {},
   "outputs": [
    {
     "name": "stdout",
     "output_type": "stream",
     "text": [
      "Total 70-year-olds: 6777\n",
      "70-year-olds who purchased: 5406\n"
     ]
    }
   ],
   "source": [
    "#Checking the number of persons who are 70 year old and total 70 year olds who purchased\n",
    "print(\"Total 70-year-olds:\", (df_w_age_purchase['Age'] == 70).sum())\n",
    "print(\"70-year-olds who purchased:\", ((df_w_age_purchase['Age'] == 70) & (df_w_age_purchase['Purchased'] == 1)).sum())\n"
   ]
  },
  {
   "cell_type": "code",
   "execution_count": 31,
   "id": "89485dc8-034c-4391-a802-0154642f419f",
   "metadata": {},
   "outputs": [],
   "source": [
    "#Filter the data for age 70\n",
    "w_seventy_df = df_w_age_purchase[df_w_age_purchase['Age'] == 70]"
   ]
  },
  {
   "cell_type": "code",
   "execution_count": 32,
   "id": "6a1297b7-f128-4399-b7af-0615e594b4e9",
   "metadata": {},
   "outputs": [
    {
     "name": "stdout",
     "output_type": "stream",
     "text": [
      "P(Purchase / Age = 70):0.7977\n"
     ]
    }
   ],
   "source": [
    "#Calculate the probability of randomly purchasing an item, given that the person is 70 years old with a weighted condition\n",
    "p_purchase_given_70=w_seventy_df['Purchased'].mean()\n",
    "#Print the results of the weoighted probability\n",
    "print(f'P(Purchase / Age = 70):{p_purchase_given_70:.4f}')"
   ]
  },
  {
   "cell_type": "code",
   "execution_count": 33,
   "id": "68329ef9-23a1-4b52-a35b-74783d96d768",
   "metadata": {},
   "outputs": [],
   "source": [
    "#Removing the weighted conditions by assigning equal weights to all age groups\n",
    "purchase_probs={20: 0.20,30: 0.20, 40: 0.20, 50: 0.20, 60: 0.20, 70: 0.20}"
   ]
  },
  {
   "cell_type": "code",
   "execution_count": 34,
   "id": "f2310575-9755-4911-8894-0608645cd05a",
   "metadata": {},
   "outputs": [],
   "source": [
    "#Generate 40,000 data points with the purchase probabilities\n",
    "data =[]\n",
    "for _ in range(40000):\n",
    "    age = random.choice(age_groups)#randomly selects an age\n",
    "    \n",
    "    purchase_prob = purchase_probs[age] #Determining the purchase probability based on age and weight\n",
    "    \n",
    "    purchase = random.choices([1,0], weights=[purchase_prob, 1-purchase_prob],k=1)[0] #simulating a purchases, 1 for purchase and 0 for no purchase\n",
    "    \n",
    "    data.append((age,purchase))#storing the data as tuples"
   ]
  },
  {
   "cell_type": "code",
   "execution_count": 18,
   "id": "97040d5f-8a06-45ff-8f5d-8d3d4e00a83c",
   "metadata": {},
   "outputs": [],
   "source": [
    "#Creating a dataframe to house our dataset\n",
    "df_unw_age_purchase= pd.DataFrame(data, columns=['Age', 'Purchased'])"
   ]
  },
  {
   "cell_type": "code",
   "execution_count": 20,
   "id": "41b8520a-8732-4e2c-bea9-64a90e370ae9",
   "metadata": {},
   "outputs": [
    {
     "name": "stdout",
     "output_type": "stream",
     "text": [
      "Total 70-year-olds: 6709\n",
      "70-year-olds who purchased: 1397\n"
     ]
    }
   ],
   "source": [
    "#Checking the number of persons who are 70 year old and total 70 year olds who purchased\n",
    "print(\"Total 70-year-olds:\", (df_unw_age_purchase['Age'] == 70).sum())\n",
    "print(\"70-year-olds who purchased:\", ((df_unw_age_purchase['Age'] == 70) & (df_unw_age_purchase['Purchased'] == 1)).sum())\n"
   ]
  },
  {
   "cell_type": "code",
   "execution_count": 22,
   "id": "be16c0b9-14c4-4a89-bcaf-945c6f97f834",
   "metadata": {},
   "outputs": [],
   "source": [
    "#Filter out the data for the 70 age group\n",
    "uw_seventy_df = df_unw_age_purchase[df_unw_age_purchase['Age'] == 70]"
   ]
  },
  {
   "cell_type": "code",
   "execution_count": 23,
   "id": "dc5b92bd-68d3-4ce4-a873-a2cace7aa63c",
   "metadata": {},
   "outputs": [
    {
     "name": "stdout",
     "output_type": "stream",
     "text": [
      "P(Purchase / Age = 70):0.2082\n"
     ]
    }
   ],
   "source": [
    "#Calculate the probability of randomly purchasing an item, given that the person is 70 years old without a weighted condition\n",
    "p_purchase_given_70=uw_seventy_df['Purchased'].mean()\n",
    "print(f'P(Purchase / Age = 70):{p_purchase_given_70:.4f}')"
   ]
  },
  {
   "cell_type": "code",
   "execution_count": null,
   "id": "17420bb2-e65c-4159-8a74-95451386bb65",
   "metadata": {},
   "outputs": [],
   "source": []
  },
  {
   "cell_type": "code",
   "execution_count": null,
   "id": "20994a39-ff77-4d0f-9136-4394ccfdc501",
   "metadata": {},
   "outputs": [],
   "source": []
  }
 ],
 "metadata": {
  "kernelspec": {
   "display_name": "Python 3 (ipykernel)",
   "language": "python",
   "name": "python3"
  },
  "language_info": {
   "codemirror_mode": {
    "name": "ipython",
    "version": 3
   },
   "file_extension": ".py",
   "mimetype": "text/x-python",
   "name": "python",
   "nbconvert_exporter": "python",
   "pygments_lexer": "ipython3",
   "version": "3.12.9"
  }
 },
 "nbformat": 4,
 "nbformat_minor": 5
}
